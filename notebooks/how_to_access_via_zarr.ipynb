{
 "cells": [
  {
   "cell_type": "code",
   "execution_count": 15,
   "metadata": {},
   "outputs": [
    {
     "data": {
      "text/plain": [
       "<module 'src.gogoesgone.zarr_access' from '/home/robert/Coding/gogoesgone/notebooks/../src/gogoesgone/zarr_access.py'>"
      ]
     },
     "execution_count": 15,
     "metadata": {},
     "output_type": "execute_result"
    }
   ],
   "source": [
    "from importlib import reload\n",
    "import sys\n",
    "sys.path.append('..')\n",
    "\n",
    "import cartopy.crs as ccrs\n",
    "import cartopy.feature as cfeature \n",
    "from cartopy.mpl.gridliner import LONGITUDE_FORMATTER, LATITUDE_FORMATTER\n",
    "import matplotlib.pyplot as plt\n",
    "import matplotlib.ticker as mticker\n",
    "from mpl_toolkits.axes_grid1 import make_axes_locatable\n",
    "import numpy as np\n",
    "import seaborn as sb\n",
    "import xarray as xr\n",
    "\n",
    "from src.gogoesgone import processing as pr\n",
    "from src.gogoesgone import zarr_access as za\n",
    "reload(pr)\n",
    "reload(za)"
   ]
  },
  {
   "cell_type": "markdown",
   "metadata": {},
   "source": [
    "# Performance\n",
    "\n",
    "## Option-1 \n",
    "\n",
    "On a local Macbook Pro M1, for around a network speed fluctuating between 30-80 MB/s, getting a mapper for a whole day worth of files (for C13 of ABI-L2-CMPIPF) took around 11:41 minutes. Also, processing (e.g. subsampling (22.7s) and plotting (8.5s)) takes longer with a mapper including so many files. \n",
    "\n",
    "## Option-2\n",
    "\n",
    "__N.B. Numbers in parantheses show values for different instances of running the code__\n",
    "\n",
    "For roughly the same parameters as above, an hour's worth of files took around (35.6,24.3) seconds. Extrapolating that to 24 hours, brings us to a total time of 14 minutes, which suggests that a whole day's mapper might be better than going hourly. However, processing (subsampling (7.5s,8.1s) and plotting (0.5s,0.6s)) is much quicker. \n",
    "\n",
    "## Conclusion?\n",
    "\n",
    "- Subsampling would usually only be done once, so it doesn't make a big difference here.\n",
    "- But if your goal is to make plots every 10 minutes for 24 hours... \n",
    "  - **Option-1** would take 11:41 + (8.5x24x6/60 = 20.4) ~ **30 minutes**, whereas\n",
    "  - **Option-2** would take (24.3x24/60 = 9.7,35.6x24/60 = 14.24) + (0.5x24x6/60 = 1.2,0.5x24x6/60 = 1.44) ~ **15.44, 10.9 minutes**\n",
    "\n",
    "Do what you want with that bit of super-rigorous performance testing! /s"
   ]
  },
  {
   "cell_type": "code",
   "execution_count": null,
   "metadata": {},
   "outputs": [],
   "source": [
    "hour = 17\n",
    "year = 2020\n",
    "dayofyear = 24\n",
    "channel = 13\n",
    "product = 'ABI-L2-CMIPF'  #'ABI-L1b-RadF' \n",
    "satellite = 'goes16' #'goes17'\n",
    "\n",
    "gs = za.generate_globsearch_string(year, dayofyear, hour, channel, product, satellite)\n",
    "flist = za.generate_url_list(gs)\n",
    "m = za.get_mapper_from_mzz(flist)"
   ]
  },
  {
   "cell_type": "code",
   "execution_count": 27,
   "metadata": {},
   "outputs": [
    {
     "name": "stdout",
     "output_type": "stream",
     "text": [
      "s3://noaa-goes16/ABI-L2-CMIPF/2020/024/16/OR_ABI-L2-CMIPF-M6C13_G16_s20200241610164_e20200241619484_c20200241619577.nc\n"
     ]
    }
   ],
   "source": [
    "time = \"20200124 16:07:05\"\n",
    "format = \"%Y%m%d %H:%M:%S\"\n",
    "\n",
    "channel = 13\n",
    "product = 'ABI-L2-CMIPF'  #'ABI-L1b-RadF' \n",
    "satellite = 'goes16' #'goes17'\n",
    "interval = 120 # minutes\n",
    "\n",
    "flist= za.nearest_time_url(time,format, interval, channel, product, satellite)\n",
    "m = za.get_mapper_from_mzz(flist)"
   ]
  },
  {
   "cell_type": "code",
   "execution_count": null,
   "metadata": {},
   "outputs": [],
   "source": [
    "# Cloud top heights product for specific time\n",
    "time = \"20200124 16:07:05\"\n",
    "format = \"%Y%m%d %H:%M:%S\"\n",
    "\n",
    "channel = None\n",
    "product = 'ABI-L2-ACHAF'  # cloud top heights \n",
    "satellite = 'goes16' #'goes17'\n",
    "interval = 120\n",
    "\n",
    "flist= za.nearest_time_url(time,format, interval, channel, product, satellite)\n",
    "m = za.get_mapper_from_mzz(flist)"
   ]
  },
  {
   "cell_type": "code",
   "execution_count": null,
   "metadata": {},
   "outputs": [],
   "source": [
    "# Cloud top heights product for full day\n",
    "year = 2020\n",
    "dayofyear = 24\n",
    "product = 'ABI-L2-ACHAF'  # cloud top heights\n",
    "satellite = 'goes16' #'goes17'\n",
    "\n",
    "gs = za.generate_globsearch_string(year, dayofyear, product=product, satellite=satellite)\n",
    "flist = za.generate_url_list(gs)\n",
    "m = za.get_mapper_from_mzz(flist)"
   ]
  },
  {
   "cell_type": "code",
   "execution_count": null,
   "metadata": {},
   "outputs": [],
   "source": [
    "img = pr.Image(m)\n",
    "extent = (-62,-48,10,20)\n",
    "\n",
    "subset = img.subset_region_from_latlon_extents(extent, unit=\"degree\")"
   ]
  },
  {
   "cell_type": "code",
   "execution_count": null,
   "metadata": {},
   "outputs": [],
   "source": [
    "sb.set_context('paper')\n",
    "fig = plt.figure(figsize=(8,5))\n",
    "\n",
    "ax = fig.add_subplot(1, 1, 1, projection=ccrs.PlateCarree())\n",
    "\n",
    "im = subset.CMI.isel(t=0).plot(ax=ax,x='lon',y='lat',cmap='cubehelix_r',add_colorbar=False,vmin=280,vmax=300)\n",
    "subset.CMI.isel(t=0).plot.contour(ax=ax,x='lon',y='lat',cmap='Reds',add_colorbar=False,levels=[290,],linewidths=.5)          \n",
    "ax.set_extent(extent, crs=ccrs.PlateCarree())\n",
    "ax.coastlines(resolution='10m', color='black', linewidth=.5)\n",
    "\n",
    "#Add title\n",
    "plt.title(f\"{subset.attrs['time_coverage_start']} to {subset.attrs['time_coverage_end']}\")\n",
    "plt.colorbar(im,orientation='horizontal',label='Channel-13 Brightness Temperature / K')\n",
    "\n",
    "# # # Draw grid.\n",
    "gl = ax.gridlines(ccrs.PlateCarree(), linewidth = 1, color = 'w', alpha = 0.5, linestyle=':', draw_labels = True)\n",
    "gl.top_labels = False\n",
    "gl.right_labels = False\n",
    "gl.xlines = True\n",
    "gl.ylines = True\n",
    "gl.xlocator = mticker.FixedLocator(np.arange(-180, 180, 2.5))\n",
    "gl.ylocator = mticker.FixedLocator(np.arange(-90, 90, 2.5))\n",
    "gl.xformatter = LONGITUDE_FORMATTER\n",
    "gl.yformatter = LATITUDE_FORMATTER\n",
    "gl.xlabel_style = {'color': 'grey'}\n",
    "gl.ylabel_style = {'color': 'grey'}"
   ]
  },
  {
   "cell_type": "code",
   "execution_count": null,
   "metadata": {},
   "outputs": [],
   "source": []
  }
 ],
 "metadata": {
  "kernelspec": {
   "display_name": "Python 3 (ipykernel)",
   "language": "python",
   "name": "python3"
  },
  "language_info": {
   "codemirror_mode": {
    "name": "ipython",
    "version": 3
   },
   "file_extension": ".py",
   "mimetype": "text/x-python",
   "name": "python",
   "nbconvert_exporter": "python",
   "pygments_lexer": "ipython3",
   "version": "3.10.12"
  }
 },
 "nbformat": 4,
 "nbformat_minor": 4
}
